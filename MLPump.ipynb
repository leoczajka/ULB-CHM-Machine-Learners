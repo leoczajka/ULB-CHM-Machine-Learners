{
 "cells": [
  {
   "cell_type": "markdown",
   "metadata": {},
   "source": [
    "# 1. Data Pre-processing/Feature selection"
   ]
  },
  {
   "cell_type": "markdown",
   "metadata": {},
   "source": [
    "First we import the data, name our main (train) dataset *df*, "
   ]
  },
  {
   "cell_type": "code",
   "execution_count": 29,
   "metadata": {},
   "outputs": [],
   "source": [
    "train_values <- read.csv(\"trainingsetvalues.csv\")\n",
    "train_labels <- read.csv(\"trainingsetlabels.csv\")\n",
    "df <- merge(train_values, train_labels)\n",
    "test_values <- read.csv(\"testsetvalues.csv\")"
   ]
  },
  {
   "cell_type": "markdown",
   "metadata": {},
   "source": [
    "Then we load each package needed for this part"
   ]
  },
  {
   "cell_type": "code",
   "execution_count": 30,
   "metadata": {},
   "outputs": [],
   "source": [
    "library(Hmisc)\n",
    "library(tidyverse)\n",
    "library(dplyr) "
   ]
  },
  {
   "cell_type": "markdown",
   "metadata": {},
   "source": [
    "Let's have a general look at all features. This will allow us to quickly classify the different variables of our data set, given their type and structure.\n"
   ]
  },
  {
   "cell_type": "code",
   "execution_count": 31,
   "metadata": {},
   "outputs": [
    {
     "data": {
      "text/plain": [
       "df \n",
       "\n",
       " 41  Variables      59400  Observations\n",
       "--------------------------------------------------------------------------------\n",
       "id \n",
       "       n  missing distinct     Info     Mean      Gmd      .05      .10 \n",
       "   59400        0    59400        1    37115    24772     3731     7405 \n",
       "     .25      .50      .75      .90      .95 \n",
       "   18520    37062    55657    66863    70564 \n",
       "\n",
       "lowest :     0     1     2     3     4, highest: 74240 74242 74243 74246 74247\n",
       "--------------------------------------------------------------------------------\n",
       "amount_tsh \n",
       "       n  missing distinct     Info     Mean      Gmd      .05      .10 \n",
       "   59400        0       98    0.655    317.7    594.7        0        0 \n",
       "     .25      .50      .75      .90      .95 \n",
       "       0        0       20      500     1200 \n",
       "\n",
       "lowest : 0.00e+00 2.00e-01 2.50e-01 1.00e+00 2.00e+00\n",
       "highest: 1.38e+05 1.70e+05 2.00e+05 2.50e+05 3.50e+05\n",
       "--------------------------------------------------------------------------------\n",
       "date_recorded \n",
       "       n  missing distinct \n",
       "   59400        0      356 \n",
       "\n",
       "lowest : 2002-10-14 2004-01-07 2004-03-01 2004-03-06 2004-04-01\n",
       "highest: 2013-11-02 2013-11-03 2013-12-01 2013-12-02 2013-12-03\n",
       "--------------------------------------------------------------------------------\n",
       "funder \n",
       "       n  missing distinct \n",
       "   55765     3635     1897 \n",
       "\n",
       "lowest : 0                   A/co Germany        Aar                 Abas Ka             Abasia             \n",
       "highest: Zao                 Zao Water Spring    Zao Water Spring X  Zinduka             Zingibali Secondary\n",
       "--------------------------------------------------------------------------------\n",
       "gps_height \n",
       "       n  missing distinct     Info     Mean      Gmd      .05      .10 \n",
       "   59400        0     2428    0.959    668.3    761.3        0        0 \n",
       "     .25      .50      .75      .90      .95 \n",
       "       0      369     1319     1638     1797 \n",
       "\n",
       "lowest :  -90  -63  -59  -57  -55, highest: 2623 2626 2627 2628 2770\n",
       "--------------------------------------------------------------------------------\n",
       "installer \n",
       "       n  missing distinct \n",
       "   55745     3655     2145 \n",
       "\n",
       "lowest : -                   0                   A.D.B               AAR                 Aartisa            \n",
       "highest: Zao water spring    Zao water spring X  ZINDUKA             Zingibali Secondary Zuber Mihungo      \n",
       "--------------------------------------------------------------------------------\n",
       "longitude \n",
       "       n  missing distinct     Info     Mean      Gmd      .05      .10 \n",
       "   59400        0    57516        1    34.08    4.894    30.04    30.95 \n",
       "     .25      .50      .75      .90      .95 \n",
       "   33.09    34.91    37.18    38.78    39.13 \n",
       "\n",
       "lowest :  0.00000 29.60712 29.60720 29.61032 29.61096\n",
       "highest: 40.32340 40.32523 40.32524 40.34430 40.34519\n",
       "--------------------------------------------------------------------------------\n",
       "latitude \n",
       "       n  missing distinct     Info     Mean      Gmd      .05      .10 \n",
       "   59400        0    57517        1   -5.706    3.371  -10.586   -9.713 \n",
       "     .25      .50      .75      .90      .95 \n",
       "  -8.541   -5.022   -3.326   -2.101   -1.409 \n",
       "\n",
       "lowest : -11.64944018 -11.64837759 -11.58629656 -11.56857679 -11.56680457\n",
       "highest:  -0.99911702  -0.99901209  -0.99891600  -0.99846435  -0.00000002\n",
       "--------------------------------------------------------------------------------\n",
       "wpt_name \n",
       "       n  missing distinct \n",
       "   59400        0    37400 \n",
       "\n",
       "lowest : 24                A Kulwa           A Saidi           Abass             Abbas            \n",
       "highest: Zumbawanu Shuleni Zungu             Zunguni           Zunzuli A Shuleni Zuwena Kindo     \n",
       "--------------------------------------------------------------------------------\n",
       "num_private \n",
       "       n  missing distinct     Info     Mean      Gmd      .05      .10 \n",
       "   59400        0       65    0.038   0.4741   0.9443        0        0 \n",
       "     .25      .50      .75      .90      .95 \n",
       "       0        0        0        0        0 \n",
       "\n",
       "lowest :    0    1    2    3    4, highest:  672  698  755 1402 1776\n",
       "--------------------------------------------------------------------------------\n",
       "basin \n",
       "       n  missing distinct \n",
       "   59400        0        9 \n",
       "\n",
       "lowest : Internal                Lake Nyasa              Lake Rukwa              Lake Tanganyika         Lake Victoria          \n",
       "highest: Lake Victoria           Pangani                 Rufiji                  Ruvuma / Southern Coast Wami / Ruvu            \n",
       "\n",
       "Internal (7785, 0.131), Lake Nyasa (5085, 0.086), Lake Rukwa (2454, 0.041),\n",
       "Lake Tanganyika (6432, 0.108), Lake Victoria (10248, 0.173), Pangani (8940,\n",
       "0.151), Rufiji (7976, 0.134), Ruvuma / Southern Coast (4493, 0.076), Wami /\n",
       "Ruvu (5987, 0.101)\n",
       "--------------------------------------------------------------------------------\n",
       "subvillage \n",
       "       n  missing distinct \n",
       "   59029      371    19287 \n",
       "\n",
       "lowest : 'A' Kati          ##                1                 14Kambalage       18               \n",
       "highest: Zumbawanu Shuleni Zunga             Zunguni           Zunzuli           Zuri             \n",
       "--------------------------------------------------------------------------------\n",
       "region \n",
       "       n  missing distinct \n",
       "   59400        0       21 \n",
       "\n",
       "lowest : Arusha        Dar es Salaam Dodoma        Iringa        Kagera       \n",
       "highest: Ruvuma        Shinyanga     Singida       Tabora        Tanga        \n",
       "--------------------------------------------------------------------------------\n",
       "region_code \n",
       "       n  missing distinct     Info     Mean      Gmd      .05      .10 \n",
       "   59400        0       27    0.997     15.3    14.01        2        3 \n",
       "     .25      .50      .75      .90      .95 \n",
       "       5       12       17       20       60 \n",
       "\n",
       "lowest :  1  2  3  4  5, highest: 40 60 80 90 99\n",
       "--------------------------------------------------------------------------------\n",
       "district_code \n",
       "       n  missing distinct     Info     Mean      Gmd      .05      .10 \n",
       "   59400        0       20    0.976     5.63    6.356        1        1 \n",
       "     .25      .50      .75      .90      .95 \n",
       "       2        3        5        7       30 \n",
       "\n",
       "lowest :  0  1  2  3  4, highest: 60 62 63 67 80\n",
       "                                                                            \n",
       "Value          0     1     2     3     4     5     6     7     8    13    23\n",
       "Frequency     23 12203 11173  9998  8999  4356  4074  3343  1043   391   293\n",
       "Proportion 0.000 0.205 0.188 0.168 0.151 0.073 0.069 0.056 0.018 0.007 0.005\n",
       "                                                                \n",
       "Value         30    33    43    53    60    62    63    67    80\n",
       "Frequency    995   874   505   745    63   109   195     6    12\n",
       "Proportion 0.017 0.015 0.009 0.013 0.001 0.002 0.003 0.000 0.000\n",
       "--------------------------------------------------------------------------------\n",
       "lga \n",
       "       n  missing distinct \n",
       "   59400        0      125 \n",
       "\n",
       "lowest : Arusha Rural Arusha Urban Babati       Bagamoyo     Bahi        \n",
       "highest: Tunduru      Ukerewe      Ulanga       Urambo       Uyui        \n",
       "--------------------------------------------------------------------------------\n",
       "ward \n",
       "       n  missing distinct \n",
       "   59400        0     2092 \n",
       "\n",
       "lowest : Aghondi      Akheri       Arash        Arri         Arusha Chini\n",
       "highest: Ziwani       Zoissa       Zombo        Zongomera    Zuzu        \n",
       "--------------------------------------------------------------------------------\n",
       "population \n",
       "       n  missing distinct     Info     Mean      Gmd      .05      .10 \n",
       "   59400        0     1049    0.952    179.9    276.5        0        0 \n",
       "     .25      .50      .75      .90      .95 \n",
       "       0       25      215      453      680 \n",
       "\n",
       "lowest :     0     1     2     3     4, highest:  9865 10000 11463 15300 30500\n",
       "--------------------------------------------------------------------------------\n",
       "public_meeting \n",
       "       n  missing distinct \n",
       "   56066     3334        2 \n",
       "                      \n",
       "Value      False  True\n",
       "Frequency   5055 51011\n",
       "Proportion  0.09  0.91\n",
       "--------------------------------------------------------------------------------\n",
       "recorded_by \n",
       "                      n                 missing                distinct \n",
       "                  59400                       0                       1 \n",
       "                  value \n",
       "GeoData Consultants Ltd \n",
       "                                  \n",
       "Value      GeoData Consultants Ltd\n",
       "Frequency                    59400\n",
       "Proportion                       1\n",
       "--------------------------------------------------------------------------------\n",
       "scheme_management \n",
       "       n  missing distinct \n",
       "   55523     3877       12 \n",
       "\n",
       "lowest : Company          None             Other            Parastatal       Private operator\n",
       "highest: VWC              Water authority  Water Board      WUA              WUG             \n",
       "\n",
       "Company (1061, 0.019), None (1, 0.000), Other (766, 0.014), Parastatal (1680,\n",
       "0.030), Private operator (1063, 0.019), SWC (97, 0.002), Trust (72, 0.001), VWC\n",
       "(36793, 0.663), Water authority (3153, 0.057), Water Board (2748, 0.049), WUA\n",
       "(2883, 0.052), WUG (5206, 0.094)\n",
       "--------------------------------------------------------------------------------\n",
       "scheme_name \n",
       "       n  missing distinct \n",
       "   31234    28166     2696 \n",
       "\n",
       "lowest : 14 Kambarage            A                       ADP                     ADP Simbo               ADP Simbu              \n",
       "highest: Ziwani juu water supply Ziwani water supply     Zo                      Zois                    Zuzu                   \n",
       "--------------------------------------------------------------------------------\n",
       "permit \n",
       "       n  missing distinct \n",
       "   56344     3056        2 \n",
       "                      \n",
       "Value      False  True\n",
       "Frequency  17492 38852\n",
       "Proportion  0.31  0.69\n",
       "--------------------------------------------------------------------------------\n",
       "construction_year \n",
       "       n  missing distinct     Info     Mean      Gmd      .05      .10 \n",
       "   59400        0       55    0.957     1301    912.8        0        0 \n",
       "     .25      .50      .75      .90      .95 \n",
       "       0     1986     2004     2009     2010 \n",
       "\n",
       "lowest :    0 1960 1961 1962 1963, highest: 2009 2010 2011 2012 2013\n",
       "                                                                            \n",
       "Value          0  1960  1965  1970  1975  1980  1985  1990  1995  2000  2005\n",
       "Frequency  20709   153   249  1400  1913  3022  2948  2755  3815  5651  6478\n",
       "Proportion 0.349 0.003 0.004 0.024 0.032 0.051 0.050 0.046 0.064 0.095 0.109\n",
       "                      \n",
       "Value       2010  2015\n",
       "Frequency  10131   176\n",
       "Proportion 0.171 0.003\n",
       "\n",
       "For the frequency table, variable is rounded to the nearest 5\n",
       "--------------------------------------------------------------------------------\n",
       "extraction_type \n",
       "       n  missing distinct \n",
       "   59400        0       18 \n",
       "\n",
       "lowest : afridev        cemo           climax         gravity        india mark ii \n",
       "highest: other - swn 81 submersible    swn 80         walimi         windmill      \n",
       "\n",
       "afridev (1770, 0.030), cemo (90, 0.002), climax (32, 0.001), gravity (26780,\n",
       "0.451), india mark ii (2400, 0.040), india mark iii (98, 0.002), ksb (1415,\n",
       "0.024), mono (2865, 0.048), nira/tanira (8154, 0.137), other (6430, 0.108),\n",
       "other - mkulima/shinyanga (2, 0.000), other - play pump (85, 0.001), other -\n",
       "rope pump (451, 0.008), other - swn 81 (229, 0.004), submersible (4764, 0.080),\n",
       "swn 80 (3670, 0.062), walimi (48, 0.001), windmill (117, 0.002)\n",
       "--------------------------------------------------------------------------------\n",
       "extraction_type_group \n",
       "       n  missing distinct \n",
       "   59400        0       13 \n",
       "\n",
       "lowest : afridev         gravity         india mark ii   india mark iii  mono           \n",
       "highest: other motorpump rope pump       submersible     swn 80          wind-powered   \n",
       "\n",
       "afridev (1770, 0.030), gravity (26780, 0.451), india mark ii (2400, 0.040),\n",
       "india mark iii (98, 0.002), mono (2865, 0.048), nira/tanira (8154, 0.137),\n",
       "other (6430, 0.108), other handpump (364, 0.006), other motorpump (122, 0.002),\n",
       "rope pump (451, 0.008), submersible (6179, 0.104), swn 80 (3670, 0.062),\n",
       "wind-powered (117, 0.002)\n",
       "--------------------------------------------------------------------------------\n",
       "extraction_type_class \n",
       "       n  missing distinct \n",
       "   59400        0        7 \n",
       "\n",
       "lowest : gravity      handpump     motorpump    other        rope pump   \n",
       "highest: motorpump    other        rope pump    submersible  wind-powered\n",
       "                                                                           \n",
       "Value           gravity     handpump    motorpump        other    rope pump\n",
       "Frequency         26780        16456         2987         6430          451\n",
       "Proportion        0.451        0.277        0.050        0.108        0.008\n",
       "                                    \n",
       "Value       submersible wind-powered\n",
       "Frequency          6179          117\n",
       "Proportion        0.104        0.002\n",
       "--------------------------------------------------------------------------------\n",
       "management \n",
       "       n  missing distinct \n",
       "   59400        0       12 \n",
       "\n",
       "lowest : company          other            other - school   parastatal       private operator\n",
       "highest: vwc              water authority  water board      wua              wug             \n",
       "\n",
       "company (685, 0.012), other (844, 0.014), other - school (99, 0.002),\n",
       "parastatal (1768, 0.030), private operator (1971, 0.033), trust (78, 0.001),\n",
       "unknown (561, 0.009), vwc (40507, 0.682), water authority (904, 0.015), water\n",
       "board (2933, 0.049), wua (2535, 0.043), wug (6515, 0.110)\n",
       "--------------------------------------------------------------------------------\n",
       "management_group \n",
       "       n  missing distinct \n",
       "   59400        0        5 \n",
       "\n",
       "lowest : commercial other      parastatal unknown    user-group\n",
       "highest: commercial other      parastatal unknown    user-group\n",
       "                                                                 \n",
       "Value      commercial      other parastatal    unknown user-group\n",
       "Frequency        3638        943       1768        561      52490\n",
       "Proportion      0.061      0.016      0.030      0.009      0.884\n",
       "--------------------------------------------------------------------------------\n",
       "payment \n",
       "       n  missing distinct \n",
       "   59400        0        7 \n",
       "\n",
       "lowest : never pay             other                 pay annually          pay monthly           pay per bucket       \n",
       "highest: pay annually          pay monthly           pay per bucket        pay when scheme fails unknown              \n",
       "\n",
       "never pay (25348, 0.427), other (1054, 0.018), pay annually (3642, 0.061), pay\n",
       "monthly (8300, 0.140), pay per bucket (8985, 0.151), pay when scheme fails\n",
       "(3914, 0.066), unknown (8157, 0.137)\n",
       "--------------------------------------------------------------------------------\n",
       "payment_type \n",
       "       n  missing distinct \n",
       "   59400        0        7 \n",
       "\n",
       "lowest : annually   monthly    never pay  on failure other     \n",
       "highest: never pay  on failure other      per bucket unknown   \n",
       "                                                                            \n",
       "Value        annually    monthly  never pay on failure      other per bucket\n",
       "Frequency        3642       8300      25348       3914       1054       8985\n",
       "Proportion      0.061      0.140      0.427      0.066      0.018      0.151\n",
       "                     \n",
       "Value         unknown\n",
       "Frequency        8157\n",
       "Proportion      0.137\n",
       "--------------------------------------------------------------------------------\n",
       "water_quality \n",
       "       n  missing distinct \n",
       "   59400        0        8 \n",
       "\n",
       "lowest : coloured           fluoride           fluoride abandoned milky              salty             \n",
       "highest: milky              salty              salty abandoned    soft               unknown           \n",
       "\n",
       "coloured (490, 0.008), fluoride (200, 0.003), fluoride abandoned (17, 0.000),\n",
       "milky (804, 0.014), salty (4856, 0.082), salty abandoned (339, 0.006), soft\n",
       "(50818, 0.856), unknown (1876, 0.032)\n",
       "--------------------------------------------------------------------------------\n",
       "quality_group \n",
       "       n  missing distinct \n",
       "   59400        0        6 \n",
       "\n",
       "lowest : colored  fluoride good     milky    salty   \n",
       "highest: fluoride good     milky    salty    unknown \n",
       "                                                                \n",
       "Value       colored fluoride     good    milky    salty  unknown\n",
       "Frequency       490      217    50818      804     5195     1876\n",
       "Proportion    0.008    0.004    0.856    0.014    0.087    0.032\n",
       "--------------------------------------------------------------------------------\n",
       "quantity \n",
       "       n  missing distinct \n",
       "   59400        0        5 \n",
       "\n",
       "lowest : dry          enough       insufficient seasonal     unknown     \n",
       "highest: dry          enough       insufficient seasonal     unknown     \n",
       "                                                                           \n",
       "Value               dry       enough insufficient     seasonal      unknown\n",
       "Frequency          6246        33186        15129         4050          789\n",
       "Proportion        0.105        0.559        0.255        0.068        0.013\n",
       "--------------------------------------------------------------------------------\n",
       "quantity_group \n",
       "       n  missing distinct \n",
       "   59400        0        5 \n",
       "\n",
       "lowest : dry          enough       insufficient seasonal     unknown     \n",
       "highest: dry          enough       insufficient seasonal     unknown     \n",
       "                                                                           \n",
       "Value               dry       enough insufficient     seasonal      unknown\n",
       "Frequency          6246        33186        15129         4050          789\n",
       "Proportion        0.105        0.559        0.255        0.068        0.013\n",
       "--------------------------------------------------------------------------------\n",
       "source \n",
       "       n  missing distinct \n",
       "   59400        0       10 \n",
       "\n",
       "lowest : dam                  hand dtw             lake                 machine dbh          other               \n",
       "highest: rainwater harvesting river                shallow well         spring               unknown             \n",
       "\n",
       "dam (656, 0.011), hand dtw (874, 0.015), lake (765, 0.013), machine dbh (11075,\n",
       "0.186), other (212, 0.004), rainwater harvesting (2295, 0.039), river (9612,\n",
       "0.162), shallow well (16824, 0.283), spring (17021, 0.287), unknown (66, 0.001)\n",
       "--------------------------------------------------------------------------------\n",
       "source_type \n",
       "       n  missing distinct \n",
       "   59400        0        7 \n",
       "\n",
       "lowest : borehole             dam                  other                rainwater harvesting river/lake          \n",
       "highest: other                rainwater harvesting river/lake           shallow well         spring              \n",
       "\n",
       "borehole (11949, 0.201), dam (656, 0.011), other (278, 0.005), rainwater\n",
       "harvesting (2295, 0.039), river/lake (10377, 0.175), shallow well (16824,\n",
       "0.283), spring (17021, 0.287)\n",
       "--------------------------------------------------------------------------------\n",
       "source_class \n",
       "       n  missing distinct \n",
       "   59400        0        3 \n",
       "                                              \n",
       "Value      groundwater     surface     unknown\n",
       "Frequency        45794       13328         278\n",
       "Proportion       0.771       0.224       0.005\n",
       "--------------------------------------------------------------------------------\n",
       "waterpoint_type \n",
       "       n  missing distinct \n",
       "   59400        0        7 \n",
       "\n",
       "lowest : cattle trough               communal standpipe          communal standpipe multiple dam                         hand pump                  \n",
       "highest: communal standpipe multiple dam                         hand pump                   improved spring             other                      \n",
       "\n",
       "cattle trough (116, 0.002), communal standpipe (28522, 0.480), communal\n",
       "standpipe multiple (6103, 0.103), dam (7, 0.000), hand pump (17488, 0.294),\n",
       "improved spring (784, 0.013), other (6380, 0.107)\n",
       "--------------------------------------------------------------------------------\n",
       "waterpoint_type_group \n",
       "       n  missing distinct \n",
       "   59400        0        6 \n",
       "\n",
       "lowest : cattle trough      communal standpipe dam                hand pump          improved spring   \n",
       "highest: communal standpipe dam                hand pump          improved spring    other             \n",
       "                                                                   \n",
       "Value           cattle trough communal standpipe                dam\n",
       "Frequency                 116              34625                  7\n",
       "Proportion              0.002              0.583              0.000\n",
       "                                                                   \n",
       "Value               hand pump    improved spring              other\n",
       "Frequency               17488                784               6380\n",
       "Proportion              0.294              0.013              0.107\n",
       "--------------------------------------------------------------------------------\n",
       "status_group \n",
       "       n  missing distinct \n",
       "   59400        0        3 \n",
       "                                                          \n",
       "Value                   functional functional needs repair\n",
       "Frequency                    32259                    4317\n",
       "Proportion                   0.543                   0.073\n",
       "                                  \n",
       "Value               non functional\n",
       "Frequency                    22824\n",
       "Proportion                   0.384\n",
       "--------------------------------------------------------------------------------"
      ]
     },
     "metadata": {},
     "output_type": "display_data"
    }
   ],
   "source": [
    "describe(df)"
   ]
  },
  {
   "cell_type": "markdown",
   "metadata": {},
   "source": [
    "We remove three variables : *num_private* is almost always equal to 0 and there is no documentation about it; *recorded_by* is always equal to the same value, and *wpt_name* is the name of the water point therefore it is different for each water point and as such should not be useful to make any prediction about water points outside our data train set.\n"
   ]
  },
  {
   "cell_type": "code",
   "execution_count": 32,
   "metadata": {},
   "outputs": [
    {
     "data": {
      "text/plain": [
       "df$num_private \n",
       "       n  missing distinct     Info     Mean      Gmd      .05      .10 \n",
       "   59400        0       65    0.038   0.4741   0.9443        0        0 \n",
       "     .25      .50      .75      .90      .95 \n",
       "       0        0        0        0        0 \n",
       "\n",
       "lowest :    0    1    2    3    4, highest:  672  698  755 1402 1776"
      ]
     },
     "metadata": {},
     "output_type": "display_data"
    },
    {
     "data": {
      "text/plain": [
       "df$recorded_by \n",
       "                      n                 missing                distinct \n",
       "                  59400                       0                       1 \n",
       "                  value \n",
       "GeoData Consultants Ltd \n",
       "                                  \n",
       "Value      GeoData Consultants Ltd\n",
       "Frequency                    59400\n",
       "Proportion                       1"
      ]
     },
     "metadata": {},
     "output_type": "display_data"
    }
   ],
   "source": [
    "describe(df$num_private)\n",
    "describe(df$recorded_by)\n",
    " df<- df[, !(colnames(df) %in% c(\"recorded_by\", \"num_private\", \"wpt_name\"))]"
   ]
  },
  {
   "cell_type": "markdown",
   "metadata": {},
   "source": [
    "There are five strictly (we consider dates separately) numerical variables:  *latitude*, *longitude*, *gps_height*, *population* and *amount_tsh*. All are relevant to the prediction problem we try to solve here. A closer inspection of the *longitude* reveals that some observations have value 0. Given the geographical situation of Tanzania this is not possible. A thorough correction of the data set would imply infering the *longitude* from categorical geographical variables available in the data set. However this would take time and, as the number of observations for which this occurs is small (3%), we simply decide to remove those observations from the data set. By contrast this is not an issue for the *latitude* which seems to be relatively well distributed. About 1/3 of the *gps_height* on the other hand is equal to 0. This value is of course possible, but it's frequency, together with the fact that zero probably correspond to missing in the longitude's variable, may suggest that, as such, *gps_height* is a relatively badly measured variable. \n"
   ]
  },
  {
   "cell_type": "code",
   "execution_count": 34,
   "metadata": {
    "scrolled": true
   },
   "outputs": [
    {
     "data": {
      "text/html": [
       "0.0305050505050505"
      ],
      "text/latex": [
       "0.0305050505050505"
      ],
      "text/markdown": [
       "0.0305050505050505"
      ],
      "text/plain": [
       "[1] 0.03050505"
      ]
     },
     "metadata": {},
     "output_type": "display_data"
    },
    {
     "data": {
      "image/png": "[encoded data removed]",
      "text/plain": [
       "Plot with title \"Histogram of df$longitude\""
      ]
     },
     "metadata": {
      "image/png": {
       "height": 420,
       "width": 420
      }
     },
     "output_type": "display_data"
    },
    {
     "data": {
      "text/html": [
       "0"
      ],
      "text/latex": [
       "0"
      ],
      "text/markdown": [
       "0"
      ],
      "text/plain": [
       "[1] 0"
      ]
     },
     "metadata": {},
     "output_type": "display_data"
    },
    {
     "data": {
      "image/png": "[encoded data removed]",
      "text/plain": [
       "Plot with title \"Histogram of df$latitude\""
      ]
     },
     "metadata": {
      "image/png": {
       "height": 420,
       "width": 420
      }
     },
     "output_type": "display_data"
    },
    {
     "data": {
      "text/html": [
       "20438"
      ],
      "text/latex": [
       "20438"
      ],
      "text/markdown": [
       "20438"
      ],
      "text/plain": [
       "[1] 20438"
      ]
     },
     "metadata": {},
     "output_type": "display_data"
    },
    {
     "data": {
      "image/png": "[encoded data removed]",
      "text/plain": [
       "Plot with title \"Histogram of df$gps_height\""
      ]
     },
     "metadata": {
      "image/png": {
       "height": 420,
       "width": 420
      }
     },
     "output_type": "display_data"
    }
   ],
   "source": [
    "hist(df$longitude)\n",
    "sum(df$longitude==0)/nrow(df)\n",
    "hist(df$latitude)\n",
    "sum(df$latitude==0)\n",
    "hist(df$gps_height)\n",
    "sum(df$gps_height==0)\n",
    "# df <- df %>% filter(df$longitude!=0)"
   ]
  },
  {
   "cell_type": "markdown",
   "metadata": {},
   "source": [
    "The variables *population* and *amount_tsh* also seem to have been badly measured. 36% of observations have a population equal to 0, and an additional 12% have a population equal to 1. Both values could be correct. But water pumps should not be too far from people benefiting from it, and as such we would have expected such values to be less frequent. Also, the relative weight of these values is in stark contrast with the rest of the distribution of the *population* variable. About 70% of the *amount_tsh* variable is equal to 0, meaning that there was no water available to waterpoint. This figure is puzzling given that more than half of the pump are qualified as functional, we would expect indeed that some water needs to be available at the water point for the pump to be tried and ultimately assessed as functional. A closer inspection of the distribution of non-zero values further illustrate how irregular this variable is. "
   ]
  },
  {
   "cell_type": "code",
   "execution_count": 35,
   "metadata": {},
   "outputs": [
    {
     "data": {
      "text/html": [
       "0.359949494949495"
      ],
      "text/latex": [
       "0.359949494949495"
      ],
      "text/markdown": [
       "0.359949494949495"
      ],
      "text/plain": [
       "[1] 0.3599495"
      ]
     },
     "metadata": {},
     "output_type": "display_data"
    },
    {
     "data": {
      "text/html": [
       "0.118265993265993"
      ],
      "text/latex": [
       "0.118265993265993"
      ],
      "text/markdown": [
       "0.118265993265993"
      ],
      "text/plain": [
       "[1] 0.118266"
      ]
     },
     "metadata": {},
     "output_type": "display_data"
    },
    {
     "data": {
      "image/png": "[encoded data removed]",
      "text/plain": [
       "Plot with title \"Histogram of df$population\""
      ]
     },
     "metadata": {
      "image/png": {
       "height": 420,
       "width": 420
      }
     },
     "output_type": "display_data"
    },
    {
     "data": {
      "image/png": "[encoded data removed]",
      "text/plain": [
       "Plot with title \"Histogram of df$population[df$population > 1 & df$population < 500]\""
      ]
     },
     "metadata": {
      "image/png": {
       "height": 420,
       "width": 420
      }
     },
     "output_type": "display_data"
    },
    {
     "data": {
      "image/png": "[encoded data removed]",
      "text/plain": [
       "Plot with title \"Histogram of df$amount_tsh\""
      ]
     },
     "metadata": {
      "image/png": {
       "height": 420,
       "width": 420
      }
     },
     "output_type": "display_data"
    },
    {
     "data": {
      "text/html": [
       "0.700993265993266"
      ],
      "text/latex": [
       "0.700993265993266"
      ],
      "text/markdown": [
       "0.700993265993266"
      ],
      "text/plain": [
       "[1] 0.7009933"
      ]
     },
     "metadata": {},
     "output_type": "display_data"
    },
    {
     "data": {
      "text/plain": [
       "\n",
       "             functional functional needs repair          non functional \n",
       "                  32259                    4317                   22824 "
      ]
     },
     "metadata": {},
     "output_type": "display_data"
    },
    {
     "data": {
      "image/png": "[encoded data removed]",
      "text/plain": [
       "Plot with title \"Histogram of df$amount_tsh[df$amount_tsh > 0 & df$amount_ts < 1000]\""
      ]
     },
     "metadata": {
      "image/png": {
       "height": 420,
       "width": 420
      }
     },
     "output_type": "display_data"
    }
   ],
   "source": [
    "sum(df$population==0)/nrow(df)\n",
    "sum(df$population==1)/nrow(df)\n",
    "hist(df$population)\n",
    "hist(df$population[df$population>1 & df$population <500], breaks = seq(from=1, to=501, by=10))\n",
    "hist(df$amount_tsh)\n",
    "hist(df$amount_tsh[df$amount_tsh>0 & df$amount_ts <1000])\n",
    "sum(df$amount_tsh==0)/nrow(df)\n",
    "table(df$status_group)"
   ]
  },
  {
   "cell_type": "markdown",
   "metadata": {},
   "source": [
    "The data set contains two information about time: one about the year when the pump was constructed (*construction_year*), the other about the exact date when the pump was tested (*date_recorded*). *construction_year* equals zero for about 35% of the observation. This is obviously a measurement error. We set these observations to the median. *date_recorded* could be used as a factor variable with 356 different values and capturing daily fixed effect. However given that this contributes to considerably increase dimensions of the problem and therefore computing-time for several machine learning procedures, we decide to exploit information from this variable differently. First we transform it into a number to capture time trained at daily rate. We delete 31 observations with strictly implausible values. Then we create 3 categorical variables capturing the year, month and day of the week, during which the measure was taken. Finally we generate the variable *age* equal to the difference between the year of the observation and the construction year."
   ]
  },
  {
   "cell_type": "code",
   "execution_count": 36,
   "metadata": {},
   "outputs": [
    {
     "data": {
      "text/html": [
       "0.348636363636364"
      ],
      "text/latex": [
       "0.348636363636364"
      ],
      "text/markdown": [
       "0.348636363636364"
      ],
      "text/plain": [
       "[1] 0.3486364"
      ]
     },
     "metadata": {},
     "output_type": "display_data"
    },
    {
     "data": {
      "text/plain": [
       "df$construction_year[df$construction_year != 0] \n",
       "       n  missing distinct     Info     Mean      Gmd      .05      .10 \n",
       "   38691        0       54    0.998     1997    13.87     1973     1978 \n",
       "     .25      .50      .75      .90      .95 \n",
       "    1987     2000     2008     2010     2011 \n",
       "\n",
       "lowest : 1960 1961 1962 1963 1964, highest: 2009 2010 2011 2012 2013"
      ]
     },
     "metadata": {},
     "output_type": "display_data"
    },
    {
     "data": {
      "text/plain": [
       "\n",
       "11974 12424 12478 12483 12509 12513 12539 12570 12600 12631 12662 12753 14977 \n",
       "    1     1     4     1     1     1     2     1     1     2     2    14    30 \n",
       "14978 14982 15006 15007 15008 15009 15019 15020 15021 15022 15023 15024 15025 \n",
       "   22    47     7    17    53    33    13    23    36    18   130   117   154 \n",
       "15026 15027 15028 15029 15030 15031 15032 15033 15034 15035 15036 15037 15038 \n",
       "  189   175   323   263   254   351   294   341   276   232   378   458   434 \n",
       "15039 15040 15041 15042 15043 15044 15045 15046 15047 15048 15049 15050 15051 \n",
       "  327   333   328   416   364   426   379   373   520   572   513   558   497 \n",
       "15052 15053 15054 15055 15056 15057 15058 15059 15060 15061 15062 15063 15064 \n",
       "  466   262   351   364   417   381   294   342   298   337   296   391   213 \n",
       "15065 15066 15067 15068 15069 15070 15071 15072 15073 15074 15075 15076 15077 \n",
       "  252   264   267   254   114   145   185   167   161   159   157   160   154 \n",
       "15078 15079 15080 15081 15082 15083 15084 15085 15086 15087 15097 15098 15101 \n",
       "  181   204   133   337   135    59    74    27    31    11    11    14     5 \n",
       "15128 15129 15132 15158 15159 15160 15161 15162 15163 15164 15165 15166 15167 \n",
       "   19    43    35    17    61    99   144   180   200   120   183   226   228 \n",
       "15168 15169 15170 15171 15172 15173 15174 15175 15176 15177 15178 15179 15180 \n",
       "  240   197   272   265   234   320   338   332   253   262   276   223   181 \n",
       "15181 15182 15183 15184 15185 15186 15187 15188 15189 15190 15191 15192 15193 \n",
       "  215   373   320   304   345   235   191   294   330   326   274   230   216 \n",
       "15194 15195 15196 15197 15198 15199 15200 15201 15202 15203 15204 15205 15206 \n",
       "  167    82   115   136   102    81    64    56    48    79    50    26    25 \n",
       "15207 15208 15209 15210 15211 15212 15213 15214 15216 15217 15218 15220 15221 \n",
       "   28    45    71    26    32    64    26     2     1     1     1    16    48 \n",
       "15222 15223 15225 15226 15228 15229 15230 15231 15232 15233 15234 15235 15236 \n",
       "    1     1     1     1     1     1     1     1     1     1     1     1     1 \n",
       "15237 15238 15240 15242 15243 15244 15245 15250 15251 15254 15281 15282 15285 \n",
       "    1     1     1     1     1     1     1    13    45    35    65    23    25 \n",
       "15311 15315 15360 15364 15614 15615 15616 15617 15618 15619 15620 15621 15622 \n",
       "   71    37     1     1    18    55   108   123   118   109   107   101   140 \n",
       "15623 15624 15625 15626 15627 15628 15629 15630 15631 15632 15633 15634 15635 \n",
       "  146   179   215   211   150   153   166   224   244   216   193   250   353 \n",
       "15636 15637 15638 15639 15640 15641 15642 15643 15644 15645 15646 15647 15648 \n",
       "  265   251   179   200   202   135   152   105   111    71    73   155    90 \n",
       "15649 15650 15651 15652 15653 15654 15655 15656 15657 15658 15659 15663 15673 \n",
       "  121   108    17    72    30    23    25    75    73    19    45     4     8 \n",
       "15674 15684 15685 15686 15687 15688 15689 15690 15691 15692 15695 15697 15698 \n",
       "    9     5    12     5    53    42    37    27    10    16     6     5     7 \n",
       "15706 15708 15709 15711 15712 15713 15714 15715 15716 15717 15718 15719 15720 \n",
       "    1    86    71     1    18    15    25    11    41    30    24    23   145 \n",
       "15721 15722 15723 15724 15725 15726 15727 15728 15729 15730 15731 15732 15733 \n",
       "  342   312   409   368   331   315   364   379   435   338   251   337   376 \n",
       "15734 15735 15736 15737 15738 15739 15740 15741 15742 15743 15744 15745 15746 \n",
       "  459   421   324   338   370   546   464   324   315   306   363   295   281 \n",
       "15747 15748 15749 15750 15751 15752 15753 15754 15755 15756 15757 15758 15759 \n",
       "  272   337   380   444   429   418   290   369   371   333   283   299   305 \n",
       "15760 15761 15762 15763 15764 15765 15766 15767 15768 15769 15770 15771 15772 \n",
       "  251   277   391   340   220   139   122   213   347    86   132   123   118 \n",
       "15773 15774 15775 15776 15777 15778 15779 15780 15781 15782 15783 15784 15785 \n",
       "   32    45    28   102   346   283   428   319   187   360   381   336   313 \n",
       "15786 15787 15788 15789 15790 15791 15792 15793 15794 15797 15798 15799 15827 \n",
       "  248   241   179   204   212   181   157   130   143    13   153   171    17 \n",
       "15828 15829 15859 15860 15888 15889 15890 15919 15920 15950 15951 15980 15981 \n",
       "  185   102   218    30    14   237    33    42   132    32   209    55   138 \n",
       "16011 16012 16040 16041 16042 \n",
       "   24   194     1    33   240 "
      ]
     },
     "metadata": {},
     "output_type": "display_data"
    },
    {
     "data": {
      "image/png": "[encoded data removed]",
      "text/plain": [
       "Plot with title \"Histogram of df$daily_time_trend\""
      ]
     },
     "metadata": {
      "image/png": {
       "height": 420,
       "width": 420
      }
     },
     "output_type": "display_data"
    },
    {
     "data": {
      "image/png": "[encoded data removed]",
      "text/plain": [
       "Plot with title \"Histogram of df$daily_time_trend[df$daily_time_trend > 14942]\""
      ]
     },
     "metadata": {
      "image/png": {
       "height": 420,
       "width": 420
      }
     },
     "output_type": "display_data"
    }
   ],
   "source": [
    "sum(df$construction_year==0)/nrow(df)\n",
    "describe(df$construction_year[df$construction_year!=0])\n",
    "df$construction_year[df$construction_year==0] <- 2000\n",
    "\n",
    "df$m_date <- as.Date(df$date_recorded)\n",
    "df$daily_time_trend <- as.numeric(df$m_date) # remove the too early ones\n",
    "hist(df$daily_time_trend)\n",
    "table(df$daily_time_trend)\n",
    "# df <- df %>% filter(df$daily_time_trend>=14977)\n",
    "hist(df$daily_time_trend[df$daily_time_trend>14942], breaks = seq(from=14942, to=16042, by=10))\n",
    "\n",
    "df$m_months <- as.factor(as.numeric(format(df$m_date,'%m')))\n",
    "df$m_day <- as.factor(weekdays(df$m_date))\n",
    "\n",
    "df$m_year <- as.numeric(format(df$m_date,'%Y'))\n",
    "df$age <- df$m_year - df$construction_year \n",
    "\n",
    "df$age <- as.numeric(df$m_year) - df$construction_year "
   ]
  },
  {
   "cell_type": "markdown",
   "metadata": {},
   "source": [
    "The remaining the variables are all categorical. One subgroup provide information on the geographical location (*basin* *subvillage* *region* *region_code* *district_code* *lga* *ward*). The rest provide diverse information about the pump. The geographical variable can be divided into two groups depending on the number of different categories: few (*basin* *region* *region_code* *district_code* *lga* *ward*) or many (*subvillage* *ward*). We remove from our data set those with too many levels. "
   ]
  },
  {
   "cell_type": "code",
   "execution_count": 37,
   "metadata": {},
   "outputs": [
    {
     "data": {
      "text/plain": [
       "\n",
       "               Internal              Lake Nyasa              Lake Rukwa \n",
       "                   7785                    5085                    2454 \n",
       "        Lake Tanganyika           Lake Victoria                 Pangani \n",
       "                   6432                   10248                    8940 \n",
       "                 Rufiji Ruvuma / Southern Coast             Wami / Ruvu \n",
       "                   7976                    4493                    5987 "
      ]
     },
     "metadata": {},
     "output_type": "display_data"
    },
    {
     "data": {
      "text/plain": [
       "               \n",
       "                   1    2    3    4    5    6    7    8    9   10   11   12\n",
       "  Arusha           0 3024    0    0    0    0    0    0    0    0    0    0\n",
       "  Dar es Salaam    0    0    0    0    0    0  805    0    0    0    0    0\n",
       "  Dodoma        2201    0    0    0    0    0    0    0    0    0    0    0\n",
       "  Iringa           0    0    0    0    0    0    0    0    0    0 5294    0\n",
       "  Kagera           0    0    0    0    0    0    0    0    0    0    0    0\n",
       "  Kigoma           0    0    0    0    0    0    0    0    0    0    0    0\n",
       "  Kilimanjaro      0    0 4379    0    0    0    0    0    0    0    0    0\n",
       "  Lindi            0    0    0    0    0    0    0  300    0    0    0    0\n",
       "  Manyara          0    0    0    0    0    0    0    0    0    0    0    0\n",
       "  Mara             0    0    0    0    0    0    0    0    0    0    0    0\n",
       "  Mbeya            0    0    0    0    0    0    0    0    0    0    0 4639\n",
       "  Morogoro         0    0    0    0 4006    0    0    0    0    0    0    0\n",
       "  Mtwara           0    0    0    0    0    0    0    0  390    0    0    0\n",
       "  Mwanza           0    0    0    0    0    0    0    0    0    0    0    0\n",
       "  Pwani            0    0    0    0    0 1609    0    0    0    0    0    0\n",
       "  Rukwa            0    0    0    0    0    0    0    0    0    0    0    0\n",
       "  Ruvuma           0    0    0    0    0    0    0    0    0 2640    0    0\n",
       "  Shinyanga        0    0    0    0    0    0    0    0    0    0    6    0\n",
       "  Singida          0    0    0    0    0    0    0    0    0    0    0    0\n",
       "  Tabora           0    0    0    0    0    0    0    0    0    0    0    0\n",
       "  Tanga            0    0    0 2513   34    0    0    0    0    0    0    0\n",
       "               \n",
       "                  13   14   15   16   17   18   19   20   21   24   40   60\n",
       "  Arusha           0    0    0    0    0    0    0    0    0  326    0    0\n",
       "  Dar es Salaam    0    0    0    0    0    0    0    0    0    0    0    0\n",
       "  Dodoma           0    0    0    0    0    0    0    0    0    0    0    0\n",
       "  Iringa           0    0    0    0    0    0    0    0    0    0    0    0\n",
       "  Kagera           0    0    0    0    0 3316    0    0    0    0    0    0\n",
       "  Kigoma           0    0    0 2816    0    0    0    0    0    0    0    0\n",
       "  Kilimanjaro      0    0    0    0    0    0    0    0    0    0    0    0\n",
       "  Lindi            0    0    0    0    0    8    0    0    0    0    0    0\n",
       "  Manyara          0    0    0    0    0    0    0    0 1583    0    0    0\n",
       "  Mara             0    0    0    0    0    0    0 1969    0    0    0    0\n",
       "  Mbeya            0    0    0    0    0    0    0    0    0    0    0    0\n",
       "  Morogoro         0    0    0    0    0    0    0    0    0    0    0    0\n",
       "  Mtwara           0    0    0    0    0    0    0    0    0    0    0    0\n",
       "  Mwanza           0    0    0    0   55    0 3047    0    0    0    0    0\n",
       "  Pwani            0    0    0    0    0    0    0    0    0    0    1 1025\n",
       "  Rukwa            0    0 1808    0    0    0    0    0    0    0    0    0\n",
       "  Ruvuma           0    0    0    0    0    0    0    0    0    0    0    0\n",
       "  Shinyanga        0   20    0    0 4956    0    0    0    0    0    0    0\n",
       "  Singida       2093    0    0    0    0    0    0    0    0    0    0    0\n",
       "  Tabora           0 1959    0    0    0    0    0    0    0    0    0    0\n",
       "  Tanga            0    0    0    0    0    0    0    0    0    0    0    0\n",
       "               \n",
       "                  80   90   99\n",
       "  Arusha           0    0    0\n",
       "  Dar es Salaam    0    0    0\n",
       "  Dodoma           0    0    0\n",
       "  Iringa           0    0    0\n",
       "  Kagera           0    0    0\n",
       "  Kigoma           0    0    0\n",
       "  Kilimanjaro      0    0    0\n",
       "  Lindi         1238    0    0\n",
       "  Manyara          0    0    0\n",
       "  Mara             0    0    0\n",
       "  Mbeya            0    0    0\n",
       "  Morogoro         0    0    0\n",
       "  Mtwara           0  917  423\n",
       "  Mwanza           0    0    0\n",
       "  Pwani            0    0    0\n",
       "  Rukwa            0    0    0\n",
       "  Ruvuma           0    0    0\n",
       "  Shinyanga        0    0    0\n",
       "  Singida          0    0    0\n",
       "  Tabora           0    0    0\n",
       "  Tanga            0    0    0"
      ]
     },
     "metadata": {},
     "output_type": "display_data"
    },
    {
     "data": {
      "text/plain": [
       "\n",
       "    0     1     2     3     4     5     6     7     8    13    23    30    33 \n",
       "   23 12203 11173  9998  8999  4356  4074  3343  1043   391   293   995   874 \n",
       "   43    53    60    62    63    67    80 \n",
       "  505   745    63   109   195     6    12 "
      ]
     },
     "metadata": {},
     "output_type": "display_data"
    },
    {
     "data": {
      "text/plain": [
       "\n",
       "   1    2    3    4    5    6    7    8    9   10   11   12   13   14   15   16 \n",
       "2201 3024 4379 2513 4040 1609  805  300  390 2640 5300 4639 2093 1979 1808 2816 \n",
       "  17   18   19   20   21   24   40   60   80   90   99 \n",
       "5011 3324 3047 1969 1583  326    1 1025 1238  917  423 "
      ]
     },
     "metadata": {},
     "output_type": "display_data"
    },
    {
     "data": {
      "text/plain": [
       "\n",
       "    Arusha Rural     Arusha Urban           Babati         Bagamoyo \n",
       "            1252               63              511              997 \n",
       "            Bahi          Bariadi       Biharamulo     Bukoba Rural \n",
       "             224             1177              403              487 \n",
       "    Bukoba Urban          Bukombe            Bunda         Chamwino \n",
       "              88              514              438              347 \n",
       "           Chato           Chunya     Dodoma Urban            Geita \n",
       "             236              298              358              488 \n",
       "             Hai           Hanang          Handeni           Igunga \n",
       "             625              274              254              338 \n",
       "           Ilala            Ileje          Ilemela           Iramba \n",
       "             497              231              142              544 \n",
       "    Iringa Rural           Kahama          Karagwe           Karatu \n",
       "             728              836              771              326 \n",
       "          Kasulu           Kibaha          Kibondo     Kigoma Rural \n",
       "            1047              269              874              824 \n",
       "    Kigoma Urban          Kilindi           Kilolo        Kilombero \n",
       "              71              161              349              959 \n",
       "          Kilosa            Kilwa        Kinondoni         Kisarawe \n",
       "            1094              392               93              223 \n",
       "         Kishapu           Kiteto           Kondoa           Kongwa \n",
       "             399              193              523              361 \n",
       "         Korogwe           Kwimba            Kyela      Lindi Rural \n",
       "             412              627              859              388 \n",
       "     Lindi Urban           Liwale          Longido           Ludewa \n",
       "              21              154              310              564 \n",
       "         Lushoto            Mafia             Magu           Makete \n",
       "             694              132              824              630 \n",
       "         Manyoni           Masasi            Maswa          Mbarali \n",
       "             377              528              809              626 \n",
       "     Mbeya Rural           Mbinga            Mbozi            Mbulu \n",
       "             485              750             1034              297 \n",
       "           Meatu             Meru          Misenyi        Missungwi \n",
       "             468             1009              260              348 \n",
       "          Mkinga         Mkuranga          Monduli   Morogoro Rural \n",
       "             288              560              189              521 \n",
       "  Morogoro Urban      Moshi Rural      Moshi Urban           Mpanda \n",
       "              96             1251               79              679 \n",
       "         Mpwapwa     Mtwara Rural     Mtwara Urban          Mufindi \n",
       "             388              423              124              520 \n",
       "          Muheza           Muleba     Musoma Rural          Mvomero \n",
       "             334              402              396              671 \n",
       "          Mwanga       Nachingwea         Namtumbo         Nanyumbu \n",
       "             519              300              694              158 \n",
       "          Newala            Ngara       Ngorongoro           Njombe \n",
       "             231              669              201             2503 \n",
       "           Nkasi        Nyamagana            Nzega          Pangani \n",
       "             428                1              575              305 \n",
       "           Rombo            Rorya          Ruangwa           Rufiji \n",
       "             594              210              291              454 \n",
       "          Rungwe             Same        Sengerema        Serengeti \n",
       "            1106              877              331              716 \n",
       " Shinyanga Rural  Shinyanga Urban             Siha          Sikonge \n",
       "             588              191              434              170 \n",
       "       Simanjiro    Singida Rural    Singida Urban     Songea Rural \n",
       "             308              995              177              693 \n",
       "    Songea Urban Sumbawanga Rural Sumbawanga Urban     Tabora Urban \n",
       "              80              521              180              155 \n",
       "      Tandahimba            Tanga           Tarime           Temeke \n",
       "             266               99              209              215 \n",
       "         Tunduru          Ukerewe           Ulanga           Urambo \n",
       "             423              341              665              382 \n",
       "            Uyui \n",
       "             339 "
      ]
     },
     "metadata": {},
     "output_type": "display_data"
    },
    {
     "data": {
      "text/plain": [
       "df$ward \n",
       "       n  missing distinct \n",
       "   59400        0     2092 \n",
       "\n",
       "lowest : Aghondi      Akheri       Arash        Arri         Arusha Chini\n",
       "highest: Ziwani       Zoissa       Zombo        Zongomera    Zuzu        "
      ]
     },
     "metadata": {},
     "output_type": "display_data"
    },
    {
     "data": {
      "text/plain": [
       "df$subvillage \n",
       "       n  missing distinct \n",
       "   59029      371    19287 \n",
       "\n",
       "lowest : 'A' Kati          ##                1                 14Kambalage       18               \n",
       "highest: Zumbawanu Shuleni Zunga             Zunguni           Zunzuli           Zuri             "
      ]
     },
     "metadata": {},
     "output_type": "display_data"
    }
   ],
   "source": [
    "table(df$basin)\n",
    "table(df$region, df$region_code)\n",
    "table(df$district_code)\n",
    "table(df$region_code)\n",
    "table(df$lga)\n",
    "describe(df$ward)\n",
    "describe(df$subvillage)\n",
    " df<- df[, !(colnames(df) %in% c(\"ward\", \"subvillage\"))]"
   ]
  },
  {
   "cell_type": "markdown",
   "metadata": {},
   "source": [
    "Next comes the group of variable giving information about the pump with different levels of details (*extraction_type*  *extraction_type_group*  *extraction_type_class*  *management*  *management_group*  *payment*  *payment_type*  *water_quality*  *quality_group*  *quantity*  *quantity_group*  *source*  *source_type*  *source_class*  *waterpoint_type*  *waterpoint_type_group*). For instance *extraction_type* is strictly more precise than *extraction_type_group*, which is itself strictly more precise than *extraction_type_class*. As computational time varies a lot across machine learning algorithm depending on the number of features, we decide to keep both precise and general versions of these features, thus is allowing us to pick one or the other, depending on the model at use."
   ]
  },
  {
   "cell_type": "code",
   "execution_count": 38,
   "metadata": {},
   "outputs": [
    {
     "data": {
      "text/plain": [
       "                           \n",
       "                            afridev gravity india mark ii india mark iii  mono\n",
       "  afridev                      1770       0             0              0     0\n",
       "  cemo                            0       0             0              0     0\n",
       "  climax                          0       0             0              0     0\n",
       "  gravity                         0   26780             0              0     0\n",
       "  india mark ii                   0       0          2400              0     0\n",
       "  india mark iii                  0       0             0             98     0\n",
       "  ksb                             0       0             0              0     0\n",
       "  mono                            0       0             0              0  2865\n",
       "  nira/tanira                     0       0             0              0     0\n",
       "  other                           0       0             0              0     0\n",
       "  other - mkulima/shinyanga       0       0             0              0     0\n",
       "  other - play pump               0       0             0              0     0\n",
       "  other - rope pump               0       0             0              0     0\n",
       "  other - swn 81                  0       0             0              0     0\n",
       "  submersible                     0       0             0              0     0\n",
       "  swn 80                          0       0             0              0     0\n",
       "  walimi                          0       0             0              0     0\n",
       "  windmill                        0       0             0              0     0\n",
       "                           \n",
       "                            nira/tanira other other handpump other motorpump\n",
       "  afridev                             0     0              0               0\n",
       "  cemo                                0     0              0              90\n",
       "  climax                              0     0              0              32\n",
       "  gravity                             0     0              0               0\n",
       "  india mark ii                       0     0              0               0\n",
       "  india mark iii                      0     0              0               0\n",
       "  ksb                                 0     0              0               0\n",
       "  mono                                0     0              0               0\n",
       "  nira/tanira                      8154     0              0               0\n",
       "  other                               0  6430              0               0\n",
       "  other - mkulima/shinyanga           0     0              2               0\n",
       "  other - play pump                   0     0             85               0\n",
       "  other - rope pump                   0     0              0               0\n",
       "  other - swn 81                      0     0            229               0\n",
       "  submersible                         0     0              0               0\n",
       "  swn 80                              0     0              0               0\n",
       "  walimi                              0     0             48               0\n",
       "  windmill                            0     0              0               0\n",
       "                           \n",
       "                            rope pump submersible swn 80 wind-powered\n",
       "  afridev                           0           0      0            0\n",
       "  cemo                              0           0      0            0\n",
       "  climax                            0           0      0            0\n",
       "  gravity                           0           0      0            0\n",
       "  india mark ii                     0           0      0            0\n",
       "  india mark iii                    0           0      0            0\n",
       "  ksb                               0        1415      0            0\n",
       "  mono                              0           0      0            0\n",
       "  nira/tanira                       0           0      0            0\n",
       "  other                             0           0      0            0\n",
       "  other - mkulima/shinyanga         0           0      0            0\n",
       "  other - play pump                 0           0      0            0\n",
       "  other - rope pump               451           0      0            0\n",
       "  other - swn 81                    0           0      0            0\n",
       "  submersible                       0        4764      0            0\n",
       "  swn 80                            0           0   3670            0\n",
       "  walimi                            0           0      0            0\n",
       "  windmill                          0           0      0          117"
      ]
     },
     "metadata": {},
     "output_type": "display_data"
    },
    {
     "data": {
      "text/plain": [
       "                 \n",
       "                  gravity handpump motorpump other rope pump submersible\n",
       "  afridev               0     1770         0     0         0           0\n",
       "  gravity           26780        0         0     0         0           0\n",
       "  india mark ii         0     2400         0     0         0           0\n",
       "  india mark iii        0       98         0     0         0           0\n",
       "  mono                  0        0      2865     0         0           0\n",
       "  nira/tanira           0     8154         0     0         0           0\n",
       "  other                 0        0         0  6430         0           0\n",
       "  other handpump        0      364         0     0         0           0\n",
       "  other motorpump       0        0       122     0         0           0\n",
       "  rope pump             0        0         0     0       451           0\n",
       "  submersible           0        0         0     0         0        6179\n",
       "  swn 80                0     3670         0     0         0           0\n",
       "  wind-powered          0        0         0     0         0           0\n",
       "                 \n",
       "                  wind-powered\n",
       "  afridev                    0\n",
       "  gravity                    0\n",
       "  india mark ii              0\n",
       "  india mark iii             0\n",
       "  mono                       0\n",
       "  nira/tanira                0\n",
       "  other                      0\n",
       "  other handpump             0\n",
       "  other motorpump            0\n",
       "  rope pump                  0\n",
       "  submersible                0\n",
       "  swn 80                     0\n",
       "  wind-powered             117"
      ]
     },
     "metadata": {},
     "output_type": "display_data"
    },
    {
     "data": {
      "text/plain": [
       "                  \n",
       "                   commercial other parastatal unknown user-group\n",
       "  company                 685     0          0       0          0\n",
       "  other                     0   844          0       0          0\n",
       "  other - school            0    99          0       0          0\n",
       "  parastatal                0     0       1768       0          0\n",
       "  private operator       1971     0          0       0          0\n",
       "  trust                    78     0          0       0          0\n",
       "  unknown                   0     0          0     561          0\n",
       "  vwc                       0     0          0       0      40507\n",
       "  water authority         904     0          0       0          0\n",
       "  water board               0     0          0       0       2933\n",
       "  wua                       0     0          0       0       2535\n",
       "  wug                       0     0          0       0       6515"
      ]
     },
     "metadata": {},
     "output_type": "display_data"
    },
    {
     "data": {
      "text/plain": [
       "                       \n",
       "                        annually monthly never pay on failure other per bucket\n",
       "  never pay                    0       0     25348          0     0          0\n",
       "  other                        0       0         0          0  1054          0\n",
       "  pay annually              3642       0         0          0     0          0\n",
       "  pay monthly                  0    8300         0          0     0          0\n",
       "  pay per bucket               0       0         0          0     0       8985\n",
       "  pay when scheme fails        0       0         0       3914     0          0\n",
       "  unknown                      0       0         0          0     0          0\n",
       "                       \n",
       "                        unknown\n",
       "  never pay                   0\n",
       "  other                       0\n",
       "  pay annually                0\n",
       "  pay monthly                 0\n",
       "  pay per bucket              0\n",
       "  pay when scheme fails       0\n",
       "  unknown                  8157"
      ]
     },
     "metadata": {},
     "output_type": "display_data"
    },
    {
     "data": {
      "text/plain": [
       "                    \n",
       "                     colored fluoride  good milky salty unknown\n",
       "  coloured               490        0     0     0     0       0\n",
       "  fluoride                 0      200     0     0     0       0\n",
       "  fluoride abandoned       0       17     0     0     0       0\n",
       "  milky                    0        0     0   804     0       0\n",
       "  salty                    0        0     0     0  4856       0\n",
       "  salty abandoned          0        0     0     0   339       0\n",
       "  soft                     0        0 50818     0     0       0\n",
       "  unknown                  0        0     0     0     0    1876"
      ]
     },
     "metadata": {},
     "output_type": "display_data"
    },
    {
     "data": {
      "text/plain": [
       "              \n",
       "                 dry enough insufficient seasonal unknown\n",
       "  dry           6246      0            0        0       0\n",
       "  enough           0  33186            0        0       0\n",
       "  insufficient     0      0        15129        0       0\n",
       "  seasonal         0      0            0     4050       0\n",
       "  unknown          0      0            0        0     789"
      ]
     },
     "metadata": {},
     "output_type": "display_data"
    },
    {
     "data": {
      "text/plain": [
       "                      \n",
       "                       borehole   dam other rainwater harvesting river/lake\n",
       "  dam                         0   656     0                    0          0\n",
       "  hand dtw                  874     0     0                    0          0\n",
       "  lake                        0     0     0                    0        765\n",
       "  machine dbh             11075     0     0                    0          0\n",
       "  other                       0     0   212                    0          0\n",
       "  rainwater harvesting        0     0     0                 2295          0\n",
       "  river                       0     0     0                    0       9612\n",
       "  shallow well                0     0     0                    0          0\n",
       "  spring                      0     0     0                    0          0\n",
       "  unknown                     0     0    66                    0          0\n",
       "                      \n",
       "                       shallow well spring\n",
       "  dam                             0      0\n",
       "  hand dtw                        0      0\n",
       "  lake                            0      0\n",
       "  machine dbh                     0      0\n",
       "  other                           0      0\n",
       "  rainwater harvesting            0      0\n",
       "  river                           0      0\n",
       "  shallow well                16824      0\n",
       "  spring                          0  17021\n",
       "  unknown                         0      0"
      ]
     },
     "metadata": {},
     "output_type": "display_data"
    },
    {
     "data": {
      "text/plain": [
       "                      \n",
       "                       groundwater surface unknown\n",
       "  borehole                   11949       0       0\n",
       "  dam                            0     656       0\n",
       "  other                          0       0     278\n",
       "  rainwater harvesting           0    2295       0\n",
       "  river/lake                     0   10377       0\n",
       "  shallow well               16824       0       0\n",
       "  spring                     17021       0       0"
      ]
     },
     "metadata": {},
     "output_type": "display_data"
    },
    {
     "data": {
      "text/plain": [
       "                             \n",
       "                              cattle trough communal standpipe   dam hand pump\n",
       "  cattle trough                         116                  0     0         0\n",
       "  communal standpipe                      0              28522     0         0\n",
       "  communal standpipe multiple             0               6103     0         0\n",
       "  dam                                     0                  0     7         0\n",
       "  hand pump                               0                  0     0     17488\n",
       "  improved spring                         0                  0     0         0\n",
       "  other                                   0                  0     0         0\n",
       "                             \n",
       "                              improved spring other\n",
       "  cattle trough                             0     0\n",
       "  communal standpipe                        0     0\n",
       "  communal standpipe multiple               0     0\n",
       "  dam                                       0     0\n",
       "  hand pump                                 0     0\n",
       "  improved spring                         784     0\n",
       "  other                                     0  6380"
      ]
     },
     "metadata": {},
     "output_type": "display_data"
    }
   ],
   "source": [
    "  table(df$extraction_type, df$extraction_type_group)\n",
    "  table(df$extraction_type_group, df$extraction_type_class)\n",
    "  table(df$management, df$management_group )\n",
    "  table(df$payment,df$payment_type )\n",
    "  table(df$water_quality,df$quality_group )\n",
    "  table(df$quantity, df$quantity_group)\n",
    "  table(df$source, df$source_type )\n",
    "  table(df$source_type,df$source_class )\n",
    "  table(df$waterpoint_type,df$waterpoint_type_group )"
   ]
  },
  {
   "cell_type": "markdown",
   "metadata": {},
   "source": [
    "*scheme_management*\n",
    "\n",
    "*scheme_name*\n",
    "\n",
    "*permit* \n",
    "\n",
    "*public_meeting* \n",
    "\n",
    "*funder*\n",
    "\n",
    "*installer*\n",
    "\n",
    "Finally we create a dummy variable equal to 1 whenever the *funder* is the same as the *installer*. "
   ]
  },
  {
   "cell_type": "code",
   "execution_count": 39,
   "metadata": {},
   "outputs": [
    {
     "data": {
      "text/plain": [
       "\n",
       "  FALSE MISSING    TRUE \n",
       "  36762    3708   18930 "
      ]
     },
     "metadata": {},
     "output_type": "display_data"
    }
   ],
   "source": [
    "df$installer <- tolower(df$installer)\n",
    "df$funder <- tolower(df$funder)\n",
    "df$funder_is_installer <- df$funder == df$installer & df$installer!=\"\"\n",
    "df$funder_is_installer[df$installer==\"\" | df$funder==\"\"] <- \"MISSING\"\n",
    "table(df$funder_is_installer)"
   ]
  },
  {
   "cell_type": "markdown",
   "metadata": {},
   "source": [
    "We apply all modification to the *test_value* dataset\n"
   ]
  },
  {
   "cell_type": "code",
   "execution_count": 40,
   "metadata": {},
   "outputs": [],
   "source": [
    "test_values<- test_values[, !(colnames(test_values) %in% c(\"recorded_by\", \"num_private\", \"wpt_name\"))]\n",
    "\n",
    "# test_values <- test_values %>% filter(test_values$longitude!=0)\n",
    "test_values$construction_year[test_values$construction_year==0] <- 2000\n",
    "test_values$m_date <- as.Date(test_values$date_recorded)\n",
    "test_values$daily_time_trend <- as.numeric(test_values$m_date) \n",
    "# test_values <- test_values %>% filter(test_values$daily_time_trend>=14977)\n",
    "\n",
    "test_values$m_months <- as.factor(as.numeric(format(test_values$m_date,'%m')))\n",
    "test_values$m_day <- as.factor(weekdays(test_values$m_date))\n",
    "\n",
    "test_values$m_year <- as.numeric(format(test_values$m_date,'%Y'))\n",
    "test_values$age <- test_values$m_year - test_values$construction_year \n",
    "\n",
    "test_values<- test_values[, !(colnames(test_values) %in% c(\"ward\", \"subvillage\"))]\n",
    "\n",
    "test_values$installer <- tolower(test_values$installer)\n",
    "test_values$funder <- tolower(test_values$funder)\n",
    "test_values$funder_is_installer <- test_values$funder == test_values$installer & test_values$installer!=\"\"\n",
    "test_values$funder_is_installer[test_values$installer==\"\" | test_values$funder==\"\"] <- \"MISSING\"\n"
   ]
  },
  {
   "cell_type": "markdown",
   "metadata": {},
   "source": [
    "# 2. Model selection"
   ]
  },
  {
   "cell_type": "markdown",
   "metadata": {},
   "source": [
    "For this part we decided on 3 different learning methods: Decision trees using the package rpart, Support Vector Machine from e1071 and random forest from randomForest"
   ]
  },
  {
   "cell_type": "markdown",
   "metadata": {},
   "source": [
    "For the learning method and model assessment we use cross-validation to choose the best performing learning methods, to see which method is less susceptible to bias and overfitting to the training dataset. This tells us less about which learning methods is best at predicting its own training dataset and more about how the models will perform in test datasets that are disconnected from its training."
   ]
  },
  {
   "cell_type": "markdown",
   "metadata": {},
   "source": [
    "This helps us identify which method works best to avoid overfitting the data to the training set so that we can maximise the score of the prediction of DataDriven's test set. For each method, the features are the same, all parameters are set to their default. We assume that this would be fair, as we could not afford spending an absurd amount of computational time hyperparameter tuning each method."
   ]
  },
  {
   "cell_type": "markdown",
   "metadata": {},
   "source": [
    "For each of the learning methods, we sample a subset of data for a sub-training dataset, and sample another subset for the testing datasets. We calculated the differences of predictions of the test set and averaged out the errors."
   ]
  },
  {
   "cell_type": "markdown",
   "metadata": {},
   "source": [
    "## Random Forest"
   ]
  },
  {
   "cell_type": "code",
   "execution_count": 44,
   "metadata": {},
   "outputs": [
    {
     "name": "stdout",
     "output_type": "stream",
     "text": [
      "[1] \"Average random forest error rate\"\n",
      "[1] 0.2655481\n"
     ]
    }
   ],
   "source": [
    "# testing k-fold cross validation here\n",
    "df$random <- runif(nrow(df), min=1, max=60000)\n",
    "df$subset <-  ntile(df$random, 10)\n",
    "\n",
    "library(randomForest)\n",
    "\n",
    "rf_model_1 <- function(some_number) {\n",
    "    #sampling subsets for training and testing dfs\n",
    "  df_train <- train %>% filter(train$subset == some_number)\n",
    "  df_test <- train %>% filter(train$subset != some_number)\n",
    "\n",
    "  model_forest <- randomForest(as.factor(status_group) ~ \n",
    "                               + gps_height\n",
    "                              + longitude + latitude\n",
    "                              + extraction_type_group + quantity + source , \n",
    "                               data = df_train,)\n",
    "  \n",
    "  df_test$y_pred <- predict(model_forest, df_test)\n",
    "  error <- sum(df_test$y_pred!=df_test$status_group)/nrow(df_test)\n",
    "  \n",
    "  results <- list(\"df_test\" = df_test , \"model_forest\" = model_forest, \"error\" = error)\n",
    "  \n",
    "  return(c(results, model_forest))\n",
    "}\n",
    "\n",
    "allerrors=c()\n",
    "\n",
    "list_results <- lapply(1:10, rf_model_1) #Generate data\n",
    "\n",
    "\n",
    "for (i in 1:10){\n",
    "  allerrors <- c(allerrors, list_results[[i]][3]$error)\n",
    "}\n",
    "print(\"Average random forest error rate\")\n",
    "print(mean(allerrors))\n",
    "\n"
   ]
  },
  {
   "cell_type": "markdown",
   "metadata": {},
   "source": [
    "## Decision Trees"
   ]
  },
  {
   "cell_type": "code",
   "execution_count": 45,
   "metadata": {},
   "outputs": [
    {
     "name": "stdout",
     "output_type": "stream",
     "text": [
      "[1] \"Average decision tree error rate\"\n",
      "[1] 0.3032267\n"
     ]
    }
   ],
   "source": [
    "library(rpart)\n",
    "df$random <- runif(nrow(df), min=1, max=60000)\n",
    "df$subset <-  ntile(df$random, 10)\n",
    "\n",
    "tr_model_1 <- function(some_number) {\n",
    "  df_train <- train %>% filter(train$subset == some_number)\n",
    "  df_test <- train %>% filter(train$subset != some_number)\n",
    "  \n",
    "  model_rpart <- rpart(as.factor(status_group) ~ \n",
    "                                + gps_height\n",
    "                              + longitude + latitude + management\n",
    "                              + extraction_type_group + quantity + source, \n",
    "                              data = df_train)\n",
    "                              \n",
    "  \n",
    "  df_test$y_pred <- predict(model_rpart, df_test, type = \"class\")\n",
    "  \n",
    "  \n",
    "  error <- sum(df_test$y_pred!=df_test$status_group)/nrow(df_test)\n",
    "  \n",
    "  results <- list(\"df_test\" = df_test , \"model_rpart\" = model_rpart, \"error\" = error)\n",
    "  \n",
    "  return(results)\n",
    "}\n",
    "\n",
    "list_results <- lapply(1:10, tr_model_1) #Generate data\n",
    "\n",
    "allerrors=c()\n",
    "for (i in 1:10){\n",
    "  allerrors <- c(allerrors, list_results[[i]][3]$error)\n",
    "}\n",
    "\n",
    "print(\"Average decision tree error rate\")\n",
    "print(mean(allerrors))"
   ]
  },
  {
   "cell_type": "markdown",
   "metadata": {},
   "source": [
    "## Support Vector Machine"
   ]
  },
  {
   "cell_type": "code",
   "execution_count": 46,
   "metadata": {},
   "outputs": [
    {
     "name": "stdout",
     "output_type": "stream",
     "text": [
      "[1] \"Average SVM error rate\"\n",
      "[1] 0.3052563\n"
     ]
    }
   ],
   "source": [
    "library(e1071)\n",
    "df$random <- runif(nrow(df), min=1, max=60000)\n",
    "df$subset <-  ntile(df$random, 10)\n",
    "\n",
    "svm_model_1 <- function(some_number) {\n",
    "  df_train <- train %>% filter(train$subset == some_number)\n",
    "  df_test <- train %>% filter(train$subset != some_number)\n",
    "  \n",
    "  model_svm <- svm(as.factor(status_group) ~ \n",
    "                                + gps_height\n",
    "                              + longitude + latitude\n",
    "                              + extraction_type_group + quantity + source, \n",
    "                              data = df_train)\n",
    "                              \n",
    "\n",
    "  \n",
    "  df_test$y_pred <- predict(model_svm, df_test, type = \"class\")\n",
    "  \n",
    "  \n",
    "  error <- sum(df_test$y_pred!=df_test$status_group)/nrow(df_test)\n",
    "  \n",
    "  results <- list(\"df_test\" = df_test , \"model_svm\" = model_svm, \"error\" = error)\n",
    "  \n",
    "  return(results)\n",
    "}\n",
    "\n",
    "list_results <- lapply(1:10, svm_model_1) #Generate data\n",
    "\n",
    "allerrors=c()\n",
    "for (i in 1:10){\n",
    "  allerrors <- c(allerrors, list_results[[i]][3]$error)\n",
    "}\n",
    "print(\"Average SVM error rate\")\n",
    "print(mean(allerrors))"
   ]
  },
  {
   "cell_type": "markdown",
   "metadata": {},
   "source": [
    "Based on these results we found that on average, models derived from the randomForest approach seem to be performing the best, it is the learning method that's the least prone to overfitting.\n",
    "\n",
    "We will further validate the model by using the model made from the dataset to predict its own training model, see how well it performs."
   ]
  },
  {
   "cell_type": "code",
   "execution_count": 22,
   "metadata": {},
   "outputs": [
    {
     "name": "stdout",
     "output_type": "stream",
     "text": [
      "[1] 0.1129125\n"
     ]
    }
   ],
   "source": [
    "model_forest <- randomForest(as.factor(status_group) ~ \n",
    "                               + gps_height + amount_tsh\n",
    "                               + longitude + latitude\n",
    "                               + water_quality + quantity\n",
    "                               + construction_year + district_code\n",
    "                                + installer + population + scheme_management + source,\n",
    "                               data = df, importance=TRUE,\n",
    "                               ntree = 82, nodesize = 5)\n",
    "\n",
    "# predict training set with own model\n",
    "forest_pred_train <- predict(model_forest, train)\n",
    "frerror <- sum(forest_pred_train!=df$status_group)/nrow(df)\n",
    "print(frerror)"
   ]
  },
  {
   "cell_type": "markdown",
   "metadata": {},
   "source": [
    "As we can see, it's pretty good at predicting its own training dataset, with an accuracy of around 90%. However, the problem with this is that we can always keep increasing this accuracy by removing features that decrease accuracy(low MeanDecreaseAccuracy):"
   ]
  },
  {
   "cell_type": "code",
   "execution_count": 23,
   "metadata": {
    "scrolled": true
   },
   "outputs": [
    {
     "data": {
      "text/html": [
       "<table class=\"dataframe\">\n",
       "<caption>A matrix: 12 × 5 of type dbl</caption>\n",
       "<thead>\n",
       "\t<tr><th></th><th scope=col>functional</th><th scope=col>functional needs repair</th><th scope=col>non functional</th><th scope=col>MeanDecreaseAccuracy</th><th scope=col>MeanDecreaseGini</th></tr>\n",
       "</thead>\n",
       "<tbody>\n",
       "\t<tr><th scope=row>gps_height</th><td>27.97218</td><td>21.10429</td><td>26.07223</td><td>34.80126</td><td>2154.8111</td></tr>\n",
       "\t<tr><th scope=row>amount_tsh</th><td>30.58834</td><td>26.74391</td><td>26.87385</td><td>37.72150</td><td>1330.7654</td></tr>\n",
       "\t<tr><th scope=row>longitude</th><td>39.94428</td><td>34.05125</td><td>47.98537</td><td>54.26528</td><td>3747.7618</td></tr>\n",
       "\t<tr><th scope=row>latitude</th><td>47.87169</td><td>29.00456</td><td>44.13451</td><td>57.32701</td><td>3527.7995</td></tr>\n",
       "\t<tr><th scope=row>water_quality</th><td>22.46143</td><td>13.86459</td><td>18.82150</td><td>25.33947</td><td> 591.4779</td></tr>\n",
       "\t<tr><th scope=row>quantity</th><td>79.98423</td><td>29.18583</td><td>99.78623</td><td>99.04337</td><td>4202.4287</td></tr>\n",
       "\t<tr><th scope=row>construction_year</th><td>35.70591</td><td>24.65454</td><td>26.69456</td><td>43.74684</td><td>1967.6396</td></tr>\n",
       "\t<tr><th scope=row>district_code</th><td>36.93801</td><td>29.18679</td><td>30.91725</td><td>45.95576</td><td> 979.7754</td></tr>\n",
       "\t<tr><th scope=row>installer</th><td>44.22148</td><td>24.37741</td><td>43.36441</td><td>55.75631</td><td>1514.8618</td></tr>\n",
       "\t<tr><th scope=row>population</th><td>19.73778</td><td>11.03838</td><td>14.78522</td><td>21.17264</td><td>1487.5044</td></tr>\n",
       "\t<tr><th scope=row>scheme_management</th><td>27.15531</td><td>12.38750</td><td>24.59397</td><td>29.55884</td><td> 791.5835</td></tr>\n",
       "\t<tr><th scope=row>source</th><td>37.61447</td><td>30.82237</td><td>31.96835</td><td>41.01685</td><td>1081.0962</td></tr>\n",
       "</tbody>\n",
       "</table>\n"
      ],
      "text/latex": [
       "A matrix: 12 × 5 of type dbl\n",
       "\\begin{tabular}{r|lllll}\n",
       "  & functional & functional needs repair & non functional & MeanDecreaseAccuracy & MeanDecreaseGini\\\\\n",
       "\\hline\n",
       "\tgps\\_height & 27.97218 & 21.10429 & 26.07223 & 34.80126 & 2154.8111\\\\\n",
       "\tamount\\_tsh & 30.58834 & 26.74391 & 26.87385 & 37.72150 & 1330.7654\\\\\n",
       "\tlongitude & 39.94428 & 34.05125 & 47.98537 & 54.26528 & 3747.7618\\\\\n",
       "\tlatitude & 47.87169 & 29.00456 & 44.13451 & 57.32701 & 3527.7995\\\\\n",
       "\twater\\_quality & 22.46143 & 13.86459 & 18.82150 & 25.33947 &  591.4779\\\\\n",
       "\tquantity & 79.98423 & 29.18583 & 99.78623 & 99.04337 & 4202.4287\\\\\n",
       "\tconstruction\\_year & 35.70591 & 24.65454 & 26.69456 & 43.74684 & 1967.6396\\\\\n",
       "\tdistrict\\_code & 36.93801 & 29.18679 & 30.91725 & 45.95576 &  979.7754\\\\\n",
       "\tinstaller & 44.22148 & 24.37741 & 43.36441 & 55.75631 & 1514.8618\\\\\n",
       "\tpopulation & 19.73778 & 11.03838 & 14.78522 & 21.17264 & 1487.5044\\\\\n",
       "\tscheme\\_management & 27.15531 & 12.38750 & 24.59397 & 29.55884 &  791.5835\\\\\n",
       "\tsource & 37.61447 & 30.82237 & 31.96835 & 41.01685 & 1081.0962\\\\\n",
       "\\end{tabular}\n"
      ],
      "text/markdown": [
       "\n",
       "A matrix: 12 × 5 of type dbl\n",
       "\n",
       "| <!--/--> | functional | functional needs repair | non functional | MeanDecreaseAccuracy | MeanDecreaseGini |\n",
       "|---|---|---|---|---|---|\n",
       "| gps_height | 27.97218 | 21.10429 | 26.07223 | 34.80126 | 2154.8111 |\n",
       "| amount_tsh | 30.58834 | 26.74391 | 26.87385 | 37.72150 | 1330.7654 |\n",
       "| longitude | 39.94428 | 34.05125 | 47.98537 | 54.26528 | 3747.7618 |\n",
       "| latitude | 47.87169 | 29.00456 | 44.13451 | 57.32701 | 3527.7995 |\n",
       "| water_quality | 22.46143 | 13.86459 | 18.82150 | 25.33947 |  591.4779 |\n",
       "| quantity | 79.98423 | 29.18583 | 99.78623 | 99.04337 | 4202.4287 |\n",
       "| construction_year | 35.70591 | 24.65454 | 26.69456 | 43.74684 | 1967.6396 |\n",
       "| district_code | 36.93801 | 29.18679 | 30.91725 | 45.95576 |  979.7754 |\n",
       "| installer | 44.22148 | 24.37741 | 43.36441 | 55.75631 | 1514.8618 |\n",
       "| population | 19.73778 | 11.03838 | 14.78522 | 21.17264 | 1487.5044 |\n",
       "| scheme_management | 27.15531 | 12.38750 | 24.59397 | 29.55884 |  791.5835 |\n",
       "| source | 37.61447 | 30.82237 | 31.96835 | 41.01685 | 1081.0962 |\n",
       "\n"
      ],
      "text/plain": [
       "                  functional functional needs repair non functional\n",
       "gps_height        27.97218   21.10429                26.07223      \n",
       "amount_tsh        30.58834   26.74391                26.87385      \n",
       "longitude         39.94428   34.05125                47.98537      \n",
       "latitude          47.87169   29.00456                44.13451      \n",
       "water_quality     22.46143   13.86459                18.82150      \n",
       "quantity          79.98423   29.18583                99.78623      \n",
       "construction_year 35.70591   24.65454                26.69456      \n",
       "district_code     36.93801   29.18679                30.91725      \n",
       "installer         44.22148   24.37741                43.36441      \n",
       "population        19.73778   11.03838                14.78522      \n",
       "scheme_management 27.15531   12.38750                24.59397      \n",
       "source            37.61447   30.82237                31.96835      \n",
       "                  MeanDecreaseAccuracy MeanDecreaseGini\n",
       "gps_height        34.80126             2154.8111       \n",
       "amount_tsh        37.72150             1330.7654       \n",
       "longitude         54.26528             3747.7618       \n",
       "latitude          57.32701             3527.7995       \n",
       "water_quality     25.33947              591.4779       \n",
       "quantity          99.04337             4202.4287       \n",
       "construction_year 43.74684             1967.6396       \n",
       "district_code     45.95576              979.7754       \n",
       "installer         55.75631             1514.8618       \n",
       "population        21.17264             1487.5044       \n",
       "scheme_management 29.55884              791.5835       \n",
       "source            41.01685             1081.0962       "
      ]
     },
     "metadata": {},
     "output_type": "display_data"
    }
   ],
   "source": [
    "# get model statistics\n",
    "importance(model_forest)"
   ]
  },
  {
   "cell_type": "markdown",
   "metadata": {},
   "source": [
    "Doing this excessively will undoubtedly increases the accuracy and improve the model's ability to predict the training dataset, however, we will hit a point where our average prediction accuracy of the test set decreases. This is an overfitting issue, this is why we intentionally tried to not let the feature statistic importance influence too much to our feature selection process. This is the same reasoning why we chose our learning procedure using Cross Validation errors."
   ]
  },
  {
   "cell_type": "markdown",
   "metadata": {},
   "source": [
    "### Hyperparameter Tuning"
   ]
  },
  {
   "cell_type": "markdown",
   "metadata": {},
   "source": [
    "To further improve our randomForest model we will perform some hyperparameter tuning, specifically ntree and nodesize. Using the same cross-validation method to compare the models.\n",
    "\n",
    "Note: The code below has been disabled with # as it takes around 2 hours to complete."
   ]
  },
  {
   "cell_type": "code",
   "execution_count": 3,
   "metadata": {},
   "outputs": [],
   "source": [
    "tree_tuner <- function(some_number) {\n",
    "  df_train <- train %>% filter(train$subset == some_number)\n",
    "  df_test <- train %>% filter(train$subset != some_number)\n",
    "  best_score<- 1\n",
    "  for (i in 1:100){\n",
    "  model_forest <- randomForest(as.factor(status_group) ~ \n",
    "                               + gps_height  + date_recorded\n",
    "                               + longitude + latitude + management\n",
    "                               + extraction_type_group\n",
    "                               + water_quality + quantity + source\n",
    "                               + waterpoint_type , \n",
    "                               data = df_train,\n",
    "                               ntree = i, nodesize = 2)\n",
    "  if (sum(predict(model_forest, df_test)!=df_test$status_group)/nrow(df_test)<best_score){\n",
    "    best_score <- sum(predict(model_forest, df_test)!=df_test$status_group)/nrow(df_test)\n",
    "    best_para <- i\n",
    "  }}\n",
    "  return(best_para)\n",
    "}\n",
    "\n",
    "node_tuner <- function(some_number) {\n",
    "  df_train <- train %>% filter(train$subset == some_number)\n",
    "  df_test <- train %>% filter(train$subset != some_number)\n",
    "  best_score<- 1\n",
    "  for (i in 1:10){\n",
    "    model_forest <- randomForest(as.factor(status_group) ~ \n",
    "                                   + gps_height  + date_recorded\n",
    "                                 + longitude + latitude + management\n",
    "                                 + extraction_type_group\n",
    "                                 + water_quality + quantity + source\n",
    "                                 + waterpoint_type , \n",
    "                                 data = df_train,\n",
    "                                 ntree = 80, nodesize = i)\n",
    "    if (sum(predict(model_forest, df_test)!=df_test$status_group)/nrow(df_test)<best_score){\n",
    "      best_score <- sum(predict(model_forest, df_test)!=df_test$status_group)/nrow(df_test)\n",
    "      best_para <- i\n",
    "    }}\n",
    "  return(best_para)\n",
    "}\n",
    "\n",
    "#list_ntree <- c()\n",
    "#for (x in 1:6){\n",
    "  #curlist<- lapply(1:10, tree_tuner)\n",
    "  #list_ntree <- c(list_ntree, curlist)\n",
    "#}\n",
    "\n",
    "#list_node<- c()\n",
    "#for (x in 1:6){\n",
    "  #curlist<- lapply(1:10, tree_tuner)\n",
    "  #list_node <- c(list_node, curlist)\n",
    "#}\n"
   ]
  },
  {
   "cell_type": "markdown",
   "metadata": {},
   "source": [
    "For this process we applied the same cross-validation technique earlier, for each sub-sample, we run the model and assess it 100 times varying the ntree param from 1-100, each sub-sample(for which there're 10), we obtain 1 best-performing n-tree parameter, and we do this for 6 trials which gives us 60 values of best n-tree parameters. For node-size we also obtained 60 values however, we vary the parameter from 1-10."
   ]
  },
  {
   "cell_type": "markdown",
   "metadata": {},
   "source": [
    "#### Top-performing ntree values"
   ]
  },
  {
   "attachments": {
    "treeplot%20hyp.png": {
     "image/png": "[encoded data removed]"
    }
   },
   "cell_type": "markdown",
   "metadata": {},
   "source": [
    "![treeplot%20hyp.png](attachment:treeplot%20hyp.png)"
   ]
  },
  {
   "cell_type": "code",
   "execution_count": 7,
   "metadata": {},
   "outputs": [],
   "source": [
    "#>summary(ntree)\n",
    "#  Min. 1st Qu.  Median    Mean 3rd Qu.    Max. \n",
    "# 19.00   73.00   85.50   82.18   95.25  100.00 "
   ]
  },
  {
   "cell_type": "markdown",
   "metadata": {},
   "source": [
    "#### Top-performing nodesize values"
   ]
  },
  {
   "attachments": {
    "nodeplot%20hyp.png": {
     "image/png": "[encoded data removed]"
    }
   },
   "cell_type": "markdown",
   "metadata": {},
   "source": [
    "\n",
    "![nodeplot%20hyp.png](attachment:nodeplot%20hyp.png)\n"
   ]
  },
  {
   "cell_type": "code",
   "execution_count": 9,
   "metadata": {},
   "outputs": [],
   "source": [
    "#>summary(node)\n",
    "#  Min. 1st Qu.  Median    Mean 3rd Qu.    Max.   \n",
    "#  1.000   2.000   4.000   4.633   7.000  10.000 "
   ]
  },
  {
   "cell_type": "markdown",
   "metadata": {},
   "source": [
    "From the mean values we determined the best ntree parameter to be 82, and the best nodesize to be 5. "
   ]
  },
  {
   "cell_type": "markdown",
   "metadata": {},
   "source": [
    "### Revisiting feature selection"
   ]
  },
  {
   "cell_type": "markdown",
   "metadata": {},
   "source": [
    "We also revisited the feature selection section. Using Cross-Validation(CV) we \"played around\" with the feature set and see how they would improve our CV accuracy. Due to the randomness of randomForest, the change in accuracy after removing or adding features to the set is not always apparent, as such this was a long and time-consuming section, as well as being rather vague, some features had a consistent improvement while others seem to not change or slightly decrease the accuracy. We did this section somewhat manually, as we wanted our feature set to also make sense intuitively. As well as the fact that we decided against evaluating each feature alone and picking the best performers, as some features have synergy together(having both increases the accuracy) and some other combinations have antagonistic behavior(having both decreases the accuracy)"
   ]
  },
  {
   "cell_type": "markdown",
   "metadata": {},
   "source": [
    "Below you can find the code that we used, this would normally in another loop and we would do this 6-10 times and average out the averages. This code is very similar to the ones we used, to vary the features we manually added and subtracted from the function."
   ]
  },
  {
   "cell_type": "code",
   "execution_count": 47,
   "metadata": {},
   "outputs": [
    {
     "name": "stdout",
     "output_type": "stream",
     "text": [
      "[1] \"Average random forest error rate\"\n",
      "[1] 0.2394444\n"
     ]
    }
   ],
   "source": [
    "# testing k-fold cross validation here\n",
    "df$random <- runif(nrow(df), min=1, max=60000)\n",
    "df$subset <-  ntile(df$random, 10)\n",
    "\n",
    "library(randomForest)\n",
    "\n",
    "rf_model_1 <- function(some_number) {\n",
    "  #sampling subsets for training and testing dfs\n",
    "  df_train <- df %>% filter(df$subset == some_number)\n",
    "  df_test <- df %>% filter(df$subset != some_number)\n",
    "  \n",
    "  model_forest <- randomForest(as.factor(status_group) ~ \n",
    "                                 + amount_tsh + gps_height \n",
    "                                + longitude + latitude\n",
    "                               + lga + population + construction_year\n",
    "                               + management + extraction_type\n",
    "                               + quality_group + quantity + source\n",
    "                               + waterpoint_type+ m_year + payment, \n",
    "                               data = df_train,\n",
    "                               ntree = 82, nodesize = 5)\n",
    "  \n",
    "  df_test$y_pred <- predict(model_forest, df_test)\n",
    "  error <- sum(df_test$y_pred!=df_test$status_group)/nrow(df_test)\n",
    "  \n",
    "  results <- list(\"df_test\" = df_test , \"model_forest\" = model_forest, \"error\" = error)\n",
    "  \n",
    "  return(c(results, model_forest))\n",
    "}\n",
    "\n",
    "allerrors=c()\n",
    "\n",
    "list_results <- lapply(1:10, rf_model_1) #Generate data\n",
    "\n",
    "\n",
    "for (i in 1:10){\n",
    "  allerrors <- c(allerrors, list_results[[i]][3]$error)\n",
    "}\n",
    "print(\"Average random forest error rate\")\n",
    "print(mean(allerrors))"
   ]
  },
  {
   "cell_type": "markdown",
   "metadata": {},
   "source": [
    "For our final pick of model, we will use Random Forest on the whole dataset with the following features: *amount_tsh, gps_height, longitude, latitude, lga, population, construction_year, management, extraction_type, quality_group, quantity, source, waterpoint_type, m_year, payment.*"
   ]
  },
  {
   "cell_type": "markdown",
   "metadata": {},
   "source": [
    "# 3. Alternate learning procedure"
   ]
  },
  {
   "cell_type": "markdown",
   "metadata": {},
   "source": [
    "We chose here to implement a Gradient Boosting Tree. The Gradient Boosting Tree is a technique used to produce a prediction model with decisions tree. They are an ensemble of decision tree models, which mean that the gradient boosting tree is a set of decisions trees that perform the prediction together. The gradient boosting tree consist on the fact that each one of the tree will learn the difference from the prediction of the other previous tree and from the real value. Which mean that the final prediction will be the addition of the prediction from all the other trees. As the running time of the gradient boosting tree is very long we need to, as we did for the previous model, sample a subset of data for a sub-training dataset, and sample another subset for the testing datasets. We calculated the differences of predictions of the test set and averaged out the errors."
   ]
  },
  {
   "cell_type": "markdown",
   "metadata": {},
   "source": [
    "# 4. Final Drivendata Prediction"
   ]
  },
  {
   "cell_type": "code",
   "execution_count": null,
   "metadata": {},
   "outputs": [],
   "source": [
    "# predicting test set with model\n",
    "forest_pred_test <- predict(model_forest, test)\n",
    "\n",
    "# create submission data frame\n",
    "submission <- data.frame(test$id)\n",
    "submission$status_group <- forest_pred_test\n",
    "names(submission)[1] <- \"id\"\n",
    "\n",
    "# printing submission to csv\n",
    "write.csv(submission, file = \"submission.csv\", row.names = FALSE)\n"
   ]
  },
  {
   "cell_type": "markdown",
   "metadata": {},
   "source": [
    "Due to the random nature of random Forest, we submitted 3 times. The scores we got are the following:"
   ]
  },
  {
   "cell_type": "code",
   "execution_count": null,
   "metadata": {},
   "outputs": [],
   "source": []
  }
 ],
 "metadata": {
  "kernelspec": {
   "display_name": "R",
   "language": "R",
   "name": "ir"
  },
  "language_info": {
   "codemirror_mode": "r",
   "file_extension": ".r",
   "mimetype": "text/x-r-source",
   "name": "R",
   "pygments_lexer": "r",
   "version": "4.0.5"
  }
 },
 "nbformat": 4,
 "nbformat_minor": 4
}
